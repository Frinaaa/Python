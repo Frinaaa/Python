{
 "cells": [
  {
   "cell_type": "code",
   "execution_count": 1,
   "id": "85d090c6",
   "metadata": {
    "scrolled": true
   },
   "outputs": [
    {
     "name": "stdout",
     "output_type": "stream",
     "text": [
      "enter a word:grand\n",
      "your word is exchanged: drang\n"
     ]
    }
   ],
   "source": [
    "#1.string char exchange\n",
    "s=input(\"enter a word:\")\n",
    "c=s[-1]+s[1:-1]+s[0]\n",
    "print(\"your word is exchanged:\",c)"
   ]
  },
  {
   "cell_type": "code",
   "execution_count": 2,
   "id": "3aa1a233",
   "metadata": {},
   "outputs": [
    {
     "name": "stdout",
     "output_type": "stream",
     "text": [
      "enter first word:frina\n",
      "enter second word:nena\n",
      "swapped first two characters: nrina fena\n"
     ]
    }
   ],
   "source": [
    "#2.string swap and concatenate\n",
    "a=input(\"enter first word:\")\n",
    "b=input(\"enter second word:\")\n",
    "c=b[0]+a[1:]+\" \"+a[0]+b[1:]\n",
    "\n",
    "print(\"swapped first two characters:\",c)"
   ]
  },
  {
   "cell_type": "code",
   "execution_count": 3,
   "id": "96bf59b8",
   "metadata": {},
   "outputs": [
    {
     "name": "stdout",
     "output_type": "stream",
     "text": [
      "enter a word:aysha arshad\n",
      "replaced word= aysh$ $rsh$d\n"
     ]
    }
   ],
   "source": [
    "#3.replace char with $\n",
    "a=input(\"enter a word:\")\n",
    "b=a[0]+a[1:].replace(a[0],\"$\")\n",
    "print(\"replaced word=\",b)"
   ]
  },
  {
   "cell_type": "code",
   "execution_count": 12,
   "id": "d7e8b98a",
   "metadata": {},
   "outputs": [
    {
     "name": "stdout",
     "output_type": "stream",
     "text": [
      "enter first colour:red\n",
      "enter second colour:blue\n",
      "enter third colour:yellow\n",
      "enter fourth colour:lavender\n",
      "red,blue,yellow,lavender\n",
      "first colour = red\n",
      "last colour = lavender\n"
     ]
    }
   ],
   "source": [
    "#4.colour list first and last element\n",
    "a=input(\"enter first colour:\")\n",
    "b=input(\"enter second colour:\")\n",
    "c=input(\"enter third colour:\")\n",
    "d=input(\"enter fourth colour:\")\n",
    "o=a[0:]+\",\"+b[0:]+\",\"+c[0:]+\",\"+d[0:]\n",
    "n=a[0:]\n",
    "h=d[0:]\n",
    "print(o)\n",
    "print(\"first colour =\",n)\n",
    "print(\"last colour =\",h)"
   ]
  },
  {
   "cell_type": "code",
   "execution_count": 14,
   "id": "e7a96fa7",
   "metadata": {},
   "outputs": [
    {
     "name": "stdout",
     "output_type": "stream",
     "text": [
      "enter your filename:frina.jpeg\n",
      "extension= jpeg\n"
     ]
    }
   ],
   "source": [
    "#5.file extension print\n",
    "a=input(\"enter your filename:\")\n",
    "b=a.split(\".\")\n",
    "print(\"extension=\",b[-1])"
   ]
  },
  {
   "cell_type": "code",
   "execution_count": 3,
   "id": "b5c5c31c",
   "metadata": {},
   "outputs": [
    {
     "name": "stdout",
     "output_type": "stream",
     "text": [
      "enter values to tuple:frina,hadeela,jahana\n",
      "tuple element is: ('frina', 'hadeela', 'jahana')\n",
      "third element: jahana\n",
      "third from last: frina\n"
     ]
    }
   ],
   "source": [
    "#6.3rd element and 3rd last element\n",
    "a=input(\"enter values to tuple using coma:\")\n",
    "b=tuple(a.split(\",\"))\n",
    "print(\"tuple element is:\",b)\n",
    "print(\"third element:\",b[2])\n",
    "print(\"third from last:\",b[-3])"
   ]
  },
  {
   "cell_type": "code",
   "execution_count": 3,
   "id": "d33b00f0",
   "metadata": {},
   "outputs": [
    {
     "name": "stdout",
     "output_type": "stream",
     "text": [
      "enter first set of colours:blue,black\n",
      "enter second set of colours:blue,orange\n",
      "colours present in first set but not in second: {'black'}\n"
     ]
    }
   ],
   "source": [
    "#7.write a python program to print all colours from colour-set1,not contained in  colour set2\n",
    "a=set(input(\"enter first set of colours:\").split(\",\"))\n",
    "b=set(input(\"enter second set of colours:\").split(\",\"))\n",
    "print(\"colours present in first set but not in second:\",a-b)"
   ]
  },
  {
   "cell_type": "code",
   "execution_count": 1,
   "id": "e8bb961c",
   "metadata": {},
   "outputs": [
    {
     "name": "stdout",
     "output_type": "stream",
     "text": [
      "enter 5 roll numbers by commas:5,8,2,3,9\n",
      "enter names of 5 students by commas:FRINA,AJAY,HADEELA,JAHANA,AYSHA\n",
      "students sorted in ascending order: {'2': 'HADEELA', '3': 'JAHANA', '5': 'FRINA', '8': 'AJAY', '9': 'AYSHA'}\n",
      "students sorted in descending order: {'9': 'AYSHA', '8': 'AJAY', '5': 'FRINA', '3': 'JAHANA', '2': 'HADEELA'}\n"
     ]
    }
   ],
   "source": [
    "#8. Accept 5 student names from user,sort dictionaryin ascending and descending order\n",
    "r=input(\"enter 5 roll numbers by commas:\").split(\",\")\n",
    "n=input(\"enter names of 5 students by commas:\").split(\",\")\n",
    "d={r[0]:n[0],r[1]:n[1],r[2]:n[2],r[3]:n[3],r[4]:n[4]}\n",
    "print(\"students sorted in ascending order:\",dict(sorted(d.items(),reverse=False)))\n",
    "print(\"students sorted in descending order:\",dict(sorted(d.items(),reverse=True)))"
   ]
  },
  {
   "cell_type": "code",
   "execution_count": 1,
   "id": "40d863e6",
   "metadata": {},
   "outputs": [
    {
     "name": "stdout",
     "output_type": "stream",
     "text": [
      "enter three students names separated by spaces:fri,jah,ajay\n",
      "enter other three students names separated by spaces:hadeela,rashika,aysha\n",
      "merge disc= {1: 'fri', 2: 'jah', 3: 'ajay', 4: 'hadeela', 5: 'rashika', 6: 'aysha'}\n"
     ]
    }
   ],
   "source": [
    "#9. merge two dictionaries where Dict1 with 3 students names & Dict2 with 2 students names\n",
    "n1=input(\"enter three students names separated by spaces:\").split(\",\")\n",
    "dict1={1:n1[0],2:n1[1],3:n1[2]}\n",
    "n2=input(\"enter other three students names separated by spaces:\").split(\",\")\n",
    "dict2={4:n2[0],5:n2[1],6:n2[2]}\n",
    "dict1.update(dict2)\n",
    "print(\"merge disc=\",dict1)"
   ]
  },
  {
   "cell_type": "code",
   "execution_count": 2,
   "id": "6d8ec372",
   "metadata": {},
   "outputs": [
    {
     "name": "stdout",
     "output_type": "stream",
     "text": [
      "even numbers are: [2, 4, 6, 8, 10, 12, 14, 16, 18, 20, 22, 24]\n",
      "sum of the numbers is: 156\n"
     ]
    }
   ],
   "source": [
    "#10. print all even numbers (1-25)& calculate sum by range() directly without loop/conditions\n",
    "even_n=list(range(2,26,2))\n",
    "print(\"even numbers are:\",even_n)\n",
    "sum_n=sum(range(2,26,2))\n",
    "print(\"sum of the numbers is:\",sum_n)"
   ]
  }
 ],
 "metadata": {
  "kernelspec": {
   "display_name": "Python 3 (ipykernel)",
   "language": "python",
   "name": "python3"
  },
  "language_info": {
   "codemirror_mode": {
    "name": "ipython",
    "version": 3
   },
   "file_extension": ".py",
   "mimetype": "text/x-python",
   "name": "python",
   "nbconvert_exporter": "python",
   "pygments_lexer": "ipython3",
   "version": "3.11.4"
  }
 },
 "nbformat": 4,
 "nbformat_minor": 5
}
