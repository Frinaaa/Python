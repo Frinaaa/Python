{
 "cells": [
  {
   "cell_type": "code",
   "execution_count": 1,
   "id": "12ca8b3f",
   "metadata": {},
   "outputs": [
    {
     "name": "stdout",
     "output_type": "stream",
     "text": [
      "enter your area's temperature in celsius:25\n",
      "degree in fahrenheit= 77.0\n"
     ]
    }
   ],
   "source": [
    "c=float(input(\"enter your area's temperature in celsius:\"))\n",
    "f=c*9/5+32\n",
    "print(\"degree in fahrenheit=\",f)"
   ]
  },
  {
   "cell_type": "code",
   "execution_count": 3,
   "id": "bb1e07be",
   "metadata": {},
   "outputs": [
    {
     "name": "stdout",
     "output_type": "stream",
     "text": [
      "enter distance from college to your home in km:50\n",
      "miles= 31.0685\n"
     ]
    }
   ],
   "source": [
    "km=int(input(\"enter distance from college to your home in km:\"))\n",
    "miles=km*0.62137\n",
    "print(\"miles=\",miles)"
   ]
  },
  {
   "cell_type": "code",
   "execution_count": null,
   "id": "0f27895f",
   "metadata": {},
   "outputs": [],
   "source": []
  },
  {
   "cell_type": "code",
   "execution_count": 11,
   "id": "dd17daf8",
   "metadata": {},
   "outputs": [
    {
     "name": "stdout",
     "output_type": "stream",
     "text": [
      "enter the price of first product:40\n",
      "enter the price of second product:70\n",
      "enter the price of third product:100\n",
      "totalprice of the product is:$210.0\n",
      "discount:31.5\n",
      "finalprice(after 15% discount):$178.5\n",
      "average price of the product:$70.0\n",
      "product A is expensive than final price:False\n",
      "product B is expensive than final price:False\n",
      "product C is expensive than final price:False\n",
      "final price is in the range of $50 to $200:True\n"
     ]
    }
   ],
   "source": [
    "a=float(input(\"enter the price of first product:\"))\n",
    "b=float(input(\"enter the price of second product:\"))\n",
    "c=float(input(\"enter the price of third product:\"))\n",
    "totalprice=a+b+c\n",
    "print(f\"totalprice of the product is:${totalprice}\")\n",
    "discount=totalprice*0.15\n",
    "print(f\"discount:{discount}\")\n",
    "finalprice=totalprice-discount\n",
    "print(f\"finalprice(after 15% discount):${finalprice}\")\n",
    "avg=totalprice/3\n",
    "print(f\"average price of the product:${avg}\")\n",
    "print(f\"product A is expensive than final price:{a>finalprice}\")\n",
    "print(f\"product B is expensive than final price:{b>finalprice}\")\n",
    "print(f\"product C is expensive than final price:{c>finalprice}\")\n",
    "print(f\"final price is in the range of $50 to $200:{50<=finalprice<=200}\")\n",
    "\n"
   ]
  },
  {
   "cell_type": "code",
   "execution_count": null,
   "id": "e5acfe50",
   "metadata": {},
   "outputs": [],
   "source": []
  }
 ],
 "metadata": {
  "kernelspec": {
   "display_name": "Python 3 (ipykernel)",
   "language": "python",
   "name": "python3"
  },
  "language_info": {
   "codemirror_mode": {
    "name": "ipython",
    "version": 3
   },
   "file_extension": ".py",
   "mimetype": "text/x-python",
   "name": "python",
   "nbconvert_exporter": "python",
   "pygments_lexer": "ipython3",
   "version": "3.11.4"
  }
 },
 "nbformat": 4,
 "nbformat_minor": 5
}
