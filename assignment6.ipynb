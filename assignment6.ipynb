{
 "cells": [
  {
   "cell_type": "code",
   "execution_count": 3,
   "id": "d7be3793",
   "metadata": {},
   "outputs": [
    {
     "name": "stdout",
     "output_type": "stream",
     "text": [
      "Enter a year: 2028\n",
      "Enter a year: 2058\n",
      "The leap year in range:\n",
      "2028\n",
      "2032\n",
      "2036\n",
      "2040\n",
      "2044\n",
      "2048\n",
      "2052\n",
      "2056\n"
     ]
    }
   ],
   "source": [
    "#1.leap years from current year to final\n",
    "\n",
    "def leappyr(s,e):\n",
    "    for i in range(s,e+1):\n",
    "        if (i % 4 == 0 and i % 100 != 0) :\n",
    "            print(i)\n",
    "\n",
    "s = int(input(\"Enter a year: \"))\n",
    "e = int(input(\"Enter a year: \"))\n",
    "print(\"The leap year in range:\")\n",
    "leappyr(s,e)"
   ]
  },
  {
   "cell_type": "code",
   "execution_count": 4,
   "id": "c8cf3230",
   "metadata": {},
   "outputs": [
    {
     "name": "stdout",
     "output_type": "stream",
     "text": [
      "Enter a number: 5\n",
      "Factorial of 5=120\n"
     ]
    }
   ],
   "source": [
    "#2.factorial of numbers\n",
    "\n",
    "def facts(a):\n",
    "    ft=1\n",
    "    for i in range(1,a+1):\n",
    "        ft*=i\n",
    "    print(f\"Factorial of {a}={ft}\")\n",
    "    \n",
    "    \n",
    "a=int(input(\"Enter a number: \"))\n",
    "facts(a)"
   ]
  },
  {
   "cell_type": "code",
   "execution_count": 5,
   "id": "a31be868",
   "metadata": {},
   "outputs": [
    {
     "name": "stdout",
     "output_type": "stream",
     "text": [
      "Enter a number: 5\n",
      "Fibnocci series of 5\n",
      "0\n",
      "1\n",
      "1\n",
      "2\n",
      "3\n",
      "5\n"
     ]
    }
   ],
   "source": [
    "\n",
    "#3.fibnacci series\n",
    "\n",
    "def fib(n):\n",
    "    a=1;b=0;c=0\n",
    "    while(c<=n):\n",
    "        print(c)\n",
    "        \n",
    "        c=a+b\n",
    "        a=b\n",
    "        b=c\n",
    "        \n",
    "a=int(input(\"Enter a number: \")) \n",
    "print(\"Fibnocci series of\",a)\n",
    "fib(a)\n",
    "    "
   ]
  },
  {
   "cell_type": "code",
   "execution_count": 9,
   "id": "086ae189",
   "metadata": {},
   "outputs": [
    {
     "name": "stdout",
     "output_type": "stream",
     "text": [
      "Enter words: what a coincidence\n",
      "the length of coincidence  is: 11\n"
     ]
    }
   ],
   "source": [
    "#4 return longest word\n",
    "def fword(words):  \n",
    "    maxc=max(words,key=len)\n",
    "    print(\"the length of\",maxc,\" is:\",len(maxc))  # Print the word with the maximum length\n",
    "\n",
    "# Input words from the user, split by space\n",
    "words = input(\"Enter words: \").split()    \n",
    "fword(words)\n"
   ]
  },
  {
   "cell_type": "code",
   "execution_count": 2,
   "id": "aa390d30",
   "metadata": {},
   "outputs": [
    {
     "name": "stdout",
     "output_type": "stream",
     "text": [
      "* \n",
      "* * \n",
      "* * * \n",
      "* * * * \n",
      "* * * * * \n"
     ]
    }
   ],
   "source": [
    "#5. * pyramid\n",
    "#Construct following pattern using nested loop\n",
    "                        \n",
    "                        \n",
    "def pat(n):\n",
    "    for _ in range(n):\n",
    "        print(\"* \",end=\"\")\n",
    "    print()\n",
    "n=1\n",
    "j=0\n",
    "while j<n:\n",
    "    pat(n)\n",
    "    j+=1\n",
    "    if j<5:\n",
    "        n+=1\n",
    "    else:\n",
    "        n-=1"
   ]
  },
  {
   "cell_type": "code",
   "execution_count": 2,
   "id": "9afaf9bf",
   "metadata": {},
   "outputs": [
    {
     "name": "stdout",
     "output_type": "stream",
     "text": [
      "enter a number:6\n",
      "factors of 6 are:\n",
      "1\n",
      "2\n",
      "3\n",
      "6\n"
     ]
    }
   ],
   "source": [
    "#6 all factors of a number.\n",
    "def factors(num):\n",
    "    for i in range(1,num+1):\n",
    "        if num%i==0:\n",
    "            print(i)\n",
    "num=int(input(\"enter a number:\"))\n",
    "print(\"factors of\",num,\"are:\")\n",
    "factors(num)"
   ]
  },
  {
   "cell_type": "code",
   "execution_count": 3,
   "id": "18fc0a20",
   "metadata": {},
   "outputs": [
    {
     "name": "stdout",
     "output_type": "stream",
     "text": [
      "enter the number of steps:6\n",
      "1 \n",
      "2 4 \n",
      "3 6 9 \n",
      "4 8 12 16 \n",
      "5 10 15 20 25 \n",
      "6 12 18 24 30 36 \n"
     ]
    }
   ],
   "source": [
    "#7. given pyramid with step number accepted from user.\n",
    "def pyramid(n):\n",
    "    for i in range(1,n+1):\n",
    "        for j in range(1,i+1):\n",
    "            print(i*j,end=\" \")\n",
    "        print()\n",
    "n=int(input(\"enter the number of steps:\"))\n",
    "pyramid(n)"
   ]
  },
  {
   "cell_type": "code",
   "execution_count": 5,
   "id": "eb86691d",
   "metadata": {},
   "outputs": [
    {
     "name": "stdout",
     "output_type": "stream",
     "text": [
      "enter the side of square:4\n",
      "enter the width for rectangle:6\n",
      "enter the length of rectangle7\n",
      "enter the breath of triangle:4\n",
      "enter the heigth of triangle:8\n",
      "area of square: 16\n",
      "area of rectangle: 42\n",
      "area of triangle: 16.0\n"
     ]
    }
   ],
   "source": [
    "#8.lambda functions to find area of square, rectangle and triangle.\n",
    "side=int(input(\"enter the side of square:\"))\n",
    "width=int(input(\"enter the width for rectangle:\"))\n",
    "length=int(input(\"enter the length of rectangle\"))\n",
    "breadth=int(input(\"enter the breath of triangle:\"))\n",
    "height=int(input(\"enter the heigth of triangle:\"))\n",
    "\n",
    "square=lambda sides:sides*sides\n",
    "rectangle=lambda width,length:width*length\n",
    "triangle=lambda breadth,height:0.5*height*breadth\n",
    "print(\"area of square:\",square(side))\n",
    "print(\"area of rectangle:\",rectangle(width,length))\n",
    "print(\"area of triangle:\",triangle(breadth,height))\n"
   ]
  },
  {
   "cell_type": "code",
   "execution_count": 3,
   "id": "4ac971c7",
   "metadata": {},
   "outputs": [],
   "source": []
  },
  {
   "cell_type": "code",
   "execution_count": null,
   "id": "d9d7f9ae",
   "metadata": {},
   "outputs": [],
   "source": []
  }
 ],
 "metadata": {
  "kernelspec": {
   "display_name": "Python 3 (ipykernel)",
   "language": "python",
   "name": "python3"
  },
  "language_info": {
   "codemirror_mode": {
    "name": "ipython",
    "version": 3
   },
   "file_extension": ".py",
   "mimetype": "text/x-python",
   "name": "python",
   "nbconvert_exporter": "python",
   "pygments_lexer": "ipython3",
   "version": "3.11.4"
  }
 },
 "nbformat": 4,
 "nbformat_minor": 5
}
