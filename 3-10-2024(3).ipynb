
{
 "cells": [
  {
   "cell_type": "code",
   "execution_count": 6,
   "id": "23397f4b",
   "metadata": {},
   "outputs": [
    {
     "name": "stdout",
     "output_type": "stream",
     "text": [
      "enter any number:5\n",
      "a is positive 5.0\n"
     ]
    }
   ],
   "source": [
    "a=float(input(\"enter any number:\"))\n",
    "if a<0:\n",
    " print(\"a is negative\",a)\n",
    "elif a>0:\n",
    " print(\"a is positive\",a)\n",
    "else:\n",
    " print(\"a is zero\",a)"
   ]
  },
  {
   "cell_type": "code",
   "execution_count": 11,
   "id": "8e1d3c35",
   "metadata": {},
   "outputs": [
    {
     "name": "stdout",
     "output_type": "stream",
     "text": [
      "enter any number:4\n",
      "a is even\n"
     ]
    }
   ],
   "source": [
    "a=float(input(\"enter any number:\"))\n",
    "if a%2==0 :\n",
    "  print(\"a is even\")\n",
    "else:\n",
    " print(\"a is odd\")"
   ]
  },
  {
   "cell_type": "code",
   "execution_count": 12,
   "id": "56ea3945",
   "metadata": {},
   "outputs": [
    {
     "name": "stdout",
     "output_type": "stream",
     "text": [
      "enter a number:3\n",
      "enter a number:4\n",
      "a= 4.0\n",
      "b= 3.0\n"
     ]
    }
   ],
   "source": [
    "a=float(input(\"enter a number:\"))\n",
    "b=float(input(\"enter a number:\"))\n",
    "a,b=b,a\n",
    "print(\"a=\",a)\n",
    "print(\"b=\",b)"
   ]
  },
  {
   "cell_type": "code",
   "execution_count": 2,
   "id": "b265f619",
   "metadata": {},
   "outputs": [
    {
     "name": "stdout",
     "output_type": "stream",
     "text": [
      "enter any character:c\n",
      "c is not vowel\n"
     ]
    }
   ],
   "source": [
    "a=input(\"enter any character:\")\n",
    "if(a=='a' or a=='e'or a=='i' or a=='o'or a=='u'):\n",
    " print(f\"{a} is a vowel\")\n",
    "else:\n",
    "  print(f\"{a} is not vowel\")"
   ]
  },
  {
   "cell_type": "code",
   "execution_count": 3,
   "id": "2c2f836e",
   "metadata": {},
   "outputs": [
    {
     "name": "stdout",
     "output_type": "stream",
     "text": [
      "enter a number:4\n",
      "square of given number= 16\n"
     ]
    }
   ],
   "source": [
    "a=int(input(\"enter a number:\"))\n",
    "sq=a*a\n",
    "print(\"square of given number=\",sq)"
   ]
  },
  {
   "cell_type": "code",
   "execution_count": 6,
   "id": "d7e6c602",
   "metadata": {},
   "outputs": [
    {
     "name": "stdout",
     "output_type": "stream",
     "text": [
      "enter a number:6\n",
      "6.0 is not divisible by 5\n"
     ]
    }
   ],
   "source": [
    "a=float(input(\"enter a number:\"))\n",
    "if a%5==0:\n",
    " print(f\"{a} is divisible by 5\")\n",
    "else:\n",
    " print(f\"{a} is not divisible by 5\")"
   ]
  },
  {
   "cell_type": "code",
   "execution_count": null,
   "id": "fc302bd5",
   "metadata": {},
   "outputs": [],
   "source": []
  },
  {
   "cell_type": "code",
   "execution_count": null,
   "id": "b5cfb699",
   "metadata": {},
   "outputs": [],
   "source": []
  }
 ],
 "metadata": {
  "kernelspec": {
   "display_name": "Python 3 (ipykernel)",
   "language": "python",
   "name": "python3"
  },
  "language_info": {
   "codemirror_mode": {
    "name": "ipython",
    "version": 3
   },
   "file_extension": ".py",
   "mimetype": "text/x-python",
   "name": "python",
   "nbconvert_exporter": "python",
   "pygments_lexer": "ipython3",
   "version": "3.11.4"
  }
 },
 "nbformat": 4,
 "nbformat_minor": 5
}
