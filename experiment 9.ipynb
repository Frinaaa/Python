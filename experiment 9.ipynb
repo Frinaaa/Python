{
 "cells": [
  {
   "cell_type": "code",
   "execution_count": 10,
   "id": "d6cbd355",
   "metadata": {},
   "outputs": [
    {
     "name": "stdout",
     "output_type": "stream",
     "text": [
      "Enter the source file: abcd.txt\n",
      "lines in the file:  1\n"
     ]
    }
   ],
   "source": [
    "#1. Write a Python program to read a file line by line and store it into a list. \n",
    "l=[]\n",
    "file1=input(\"Enter the source file: \")\n",
    "f=open(file1,\"r\")\n",
    "for line in f.readlines():\n",
    "     l.append(line)\n",
    "print(\"lines in the file: \",len(l))"
   ]
  },
  {
   "cell_type": "code",
   "execution_count": 1,
   "id": "bd88c573",
   "metadata": {},
   "outputs": [
    {
     "name": "stdout",
     "output_type": "stream",
     "text": [
      "Enter the source file: abcd.txt\n",
      "Enter destination file: desti.txt\n",
      "odd lines copied to destination desti.txt\n"
     ]
    }
   ],
   "source": [
    "#2.Python program to copy odd lines of one file to another.\n",
    "file1=input(\"Enter the source file: \")\n",
    "file2=input(\"Enter destination file: \")\n",
    "f1=open(file1,\"r\")\n",
    "f2=open(file2,\"w\")\n",
    "i=0\n",
    "for line in f1.readlines():\n",
    "    i=i+1\n",
    "    if i%2==0:\n",
    "        continue\n",
    "    f2.write(line)\n",
    "print(\"odd lines copied to destination desti.txt\")\n",
    "f1.close()\n",
    "f2.close()"
   ]
  },
  {
   "cell_type": "code",
   "execution_count": 2,
   "id": "3cd7d6dc",
   "metadata": {},
   "outputs": [
    {
     "name": "stdout",
     "output_type": "stream",
     "text": [
      "Enter csv file name: string.csv\n",
      "read and print list of string; ['ab zindagi diwaiiiii']\n"
     ]
    }
   ],
   "source": [
    "#3 Write a Python program to read each row from a given csv file and print a\n",
    "#list of strings.\n",
    "import csv\n",
    "fname=input(\"Enter csv file name: \")\n",
    "f1=open(fname,\"r\")\n",
    "reader=csv.reader(f1)\n",
    "for row in reader:\n",
    "    print(\"read and print list of string;\",row)\n",
    "f1.close()"
   ]
  },
  {
   "cell_type": "code",
   "execution_count": 3,
   "id": "54dafdf3",
   "metadata": {},
   "outputs": [
    {
     "name": "stdout",
     "output_type": "stream",
     "text": [
      "Enter CSV file name: prgm.csv\n",
      "Enter the column indices: 1,2\n",
      "[]\n",
      "[]\n",
      "['bjha', 'fjfj']\n",
      "['fe', 'ere']\n"
     ]
    }
   ],
   "source": [
    "#4 Write a Python program to read specific columns of a given CSV file and print the content of the columns. \n",
    "import csv\n",
    "\n",
    "fname = input(\"Enter CSV file name: \")\n",
    "col_input = input(\"Enter the column indices: \")\n",
    "col_to_read = [int(index) for index in col_input.split(',')]\n",
    "\n",
    "f1 = open(fname, \"r\")\n",
    "reader = csv.reader(f1)\n",
    "\n",
    "for row in reader:\n",
    "    sel_col = [row[i] for i in col_to_read if i < len(row)]\n",
    "    print(sel_col)"
   ]
  },
  {
   "cell_type": "code",
   "execution_count": 5,
   "id": "cbf0a4b2",
   "metadata": {},
   "outputs": [
    {
     "name": "stdout",
     "output_type": "stream",
     "text": [
      "Enter new source file name: new.csv\n",
      "Enter comma seperated empid,empname,dptname,dob,salary: 1,frina,corporate,28/02/2004,15000000\n",
      "Enter comma seperated empid,empname,dptname,dob,salary: 2,rania,tec,06/08/1997,15000000\n",
      "The csv file contains: \n",
      "{'1': '2', 'frina': 'rania', 'corporate': 'corporate', '28': '23', '2222': '2000'}\n"
     ]
    }
   ],
   "source": [
    "#5.After writing the CSV file read the CSV file and display the content.\n",
    "import csv\n",
    "file1=input(\"Enter new source file name: \")\n",
    "with open(file1,\"a+\",newline='')as f1:\n",
    "    empdata=[\"empid\",\"empname\",\"dptname\",\"dob\",\"salary\"]\n",
    "    l=[]\n",
    "    writer=csv.DictWriter(f1,fieldnames=empdata)\n",
    "    for i in range(2):\n",
    "        l=list(input(\"Enter comma seperated empid,empname,dptname,dob,salary: \").split(\",\"))\n",
    "        writer.writerow({'empid':l[0],'empname':l[1],'dptname':l[2],'dob':l[3],'salary':l[4]})\n",
    "        l.clear()\n",
    "    print(\"The csv file contains: \")\n",
    "    with open(file1,'r') as f2:\n",
    "        rdr=csv.DictReader(f2)  \n",
    "        for item in rdr:\n",
    "             print(item)  "
   ]
  },
  {
   "cell_type": "code",
   "execution_count": 5,
   "id": "512e9466",
   "metadata": {},
   "outputs": [
    {
     "name": "stdout",
     "output_type": "stream",
     "text": [
      "Enter new filename with extension csv: column.csv\n",
      "Enter number of dept: 3\n",
      "Enter comma seperated deptid,deptname,TE,location: 2,corporate,dfd,calicut\n",
      "Enter comma seperated deptid,deptname,TE,location: 3,fefef,fdf,ffffr\n",
      "Enter comma seperated deptid,deptname,TE,location: 4,fffdf,dfdf,dffff\n",
      "DepartmentID. DepartmentName\n",
      "2   corporate\n",
      "3   fefef\n",
      "4   fffdf\n"
     ]
    }
   ],
   "source": [
    "#6.Create a department csv file with fields- DeptId,DeptName, Totalemployees, location. Write a Python program to read\n",
    "#specific columns (DeptId, DeptName) of the given CSV file and print the\n",
    "#content of the columns.\n",
    "import csv\n",
    "file1=input(\"Enter new filename with extension csv: \")\n",
    "with open (file1,\"a+\",newline='')as f1:\n",
    "    empdata=[\"deptid\",\"deptname\",\"TE\",\"location\"]\n",
    "    l=[]\n",
    "    writer=csv.DictWriter(f1,fieldnames=empdata)\n",
    "    writer.writeheader()\n",
    "    n=int(input(\"Enter number of dept: \"))\n",
    "    for i in range(n):\n",
    "        l=list(input(\"Enter comma seperated deptid,deptname,TE,location: \").split(\",\"))\n",
    "        writer.writerow({'deptid':l[0],'deptname':l[1],'TE':l[2],'location':l[3]})\n",
    "        l.clear()\n",
    "    print(\"DepartmentID. DepartmentName\")\n",
    "with open (file1,'r') as f2:\n",
    "    rdr=csv.DictReader(f2)\n",
    "    for item in rdr:\n",
    " ## print(item['deptid'],\" \",item['deptname'])\n",
    "      print(item['deptid'],\" \",item['deptname'])\n"
   ]
  },
  {
   "cell_type": "code",
   "execution_count": null,
   "id": "26a4ce5c",
   "metadata": {},
   "outputs": [],
   "source": []
  }
 ],
 "metadata": {
  "kernelspec": {
   "display_name": "Python 3 (ipykernel)",
   "language": "python",
   "name": "python3"
  },
  "language_info": {
   "codemirror_mode": {
    "name": "ipython",
    "version": 3
   },
   "file_extension": ".py",
   "mimetype": "text/x-python",
   "name": "python",
   "nbconvert_exporter": "python",
   "pygments_lexer": "ipython3",
   "version": "3.11.4"
  }
 },
 "nbformat": 4,
 "nbformat_minor": 5
}
