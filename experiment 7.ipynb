
{
 "cells": [
  {
   "cell_type": "code",
   "execution_count": 7,
   "id": "645e4b07",
   "metadata": {},
   "outputs": [
    {
     "name": "stdout",
     "output_type": "stream",
     "text": [
      "enter length of rectangle:3\n",
      "enter breadth of rectangle:4\n",
      "area of rectangle= 12\n",
      "perimeter of rectangle= 14\n",
      "enter radius of your circle:4\n",
      "area of circle= 50.24\n",
      "perimeter of circle= 25.12\n"
     ]
    }
   ],
   "source": [
    "#1 area and perimeter of rectangle and circle\n",
    "import rec\n",
    "l=int(input(\"enter length of rectangle:\"))\n",
    "b=int(input(\"enter breadth of rectangle:\"))\n",
    "c=rec.area(l,b)\n",
    "print(\"area of rectangle=\",c)\n",
    "d=rec.perimeter(l,b)\n",
    "print(\"perimeter of rectangle=\",d)\n",
    "import circ\n",
    "r=int(input(\"enter radius of your circle:\"))\n",
    "a=circ.area(r)\n",
    "n=circ.perimeter(r)\n",
    "print(\"area of circle=\",a)\n",
    "print(\"perimeter of circle=\",n)"
   ]
  },
  {
   "cell_type": "code",
   "execution_count": null,
   "id": "0f998f14",
   "metadata": {},
   "outputs": [],
   "source": [
    "#2"
   ]
  }
 ],
 "metadata": {
  "kernelspec": {
   "display_name": "Python 3 (ipykernel)",
   "language": "python",
   "name": "python3"
  },
  "language_info": {
   "codemirror_mode": {
    "name": "ipython",
    "version": 3
   },
   "file_extension": ".py",
   "mimetype": "text/x-python",
   "name": "python",
   "nbconvert_exporter": "python",
   "pygments_lexer": "ipython3",
   "version": "3.11.4"
  }
 },
 "nbformat": 4,
 "nbformat_minor": 5
}
