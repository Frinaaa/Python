
{
 "cells": [
  {
   "cell_type": "code",
   "execution_count": 2,
   "id": "ade3152f",
   "metadata": {},
   "outputs": [
    {
     "name": "stdout",
     "output_type": "stream",
     "text": [
      "enter text: ahha ys hahah\n",
      "occurence of each word :  [('ys', 1), ('ahha', 1), ('hahah', 1)]\n"
     ]
    }
   ],
   "source": [
    "#1 count the occurences of each word in a line of text\n",
    "txt=input(\"enter text: \").split()\n",
    "print(\"occurence of each word : \",[(word,txt.count(word)) for word in set(txt)])"
   ]
  },
  {
   "cell_type": "code",
   "execution_count": 4,
   "id": "fe90b6ac",
   "metadata": {},
   "outputs": [
    {
     "name": "stdout",
     "output_type": "stream",
     "text": [
      "enter no: 10 101 55 111 \n",
      "value greater than 100 replaced with over: [10, 'over', 55, 'over']\n"
     ]
    }
   ],
   "source": [
    "#2 prompt the user for a list of integers. for all values greater than 100 ,store 'over' instead\n",
    "num= input(\"enter no: \").split()\n",
    "num_list=[int(x) for x in num]\n",
    "result= [\"over\" if x>100 else x for x in num_list]\n",
    "print(\"value greater than 100 replaced with over:\",result)"
   ]
  },
  {
   "cell_type": "code",
   "execution_count": 5,
   "id": "c1b0cece",
   "metadata": {},
   "outputs": [
    {
     "name": "stdout",
     "output_type": "stream",
     "text": [
      "enter names:aysha arshad\n",
      "occurence of 'a'within the list: 4\n"
     ]
    }
   ],
   "source": [
    "#3 store a list of first names count the occurence of 'a'within the list\n",
    "names=input(\"enter names:\").split()\n",
    "print(\"occurence of 'a'within the list:\",sum([name.count('a') for name in names]))"
   ]
  },
  {
   "cell_type": "code",
   "execution_count": 4,
   "id": "deb03a80",
   "metadata": {},
   "outputs": [
    {
     "name": "stdout",
     "output_type": "stream",
     "text": [
      "enter first list of integers separated by spaces:4 6 7 3 4 \n",
      "enter second list of integers separated by spaces:6 5 33 77 4 3 5 6\n",
      "same length: False\n",
      "same sum: False\n",
      "any common elements: True\n"
     ]
    }
   ],
   "source": [
    "#4 enter 2 lists of integers check \n",
    "\n",
    "list1 =list(map(int,input(\"enter first list of integers separated by spaces:\").split()))\n",
    "list2 =list(map(int,input(\"enter second list of integers separated by spaces:\").split()))\n",
    "\n",
    "#(a)if list are same length\n",
    "print(\"same length:\",len(list1) == len(list2)) \n",
    "\n",
    "#(b)if list sum to same value\n",
    "print(\"same sum:\",sum(list1) == sum(list2)) \n",
    "\n",
    "#(c)if any value occur in both\n",
    "print(\"any common elements:\",any([item in list2 for item in list1]))"
   ]
  },
  {
   "cell_type": "code",
   "execution_count": 6,
   "id": "5c32d8da",
   "metadata": {},
   "outputs": [
    {
     "name": "stdout",
     "output_type": "stream",
     "text": [
      "enter no: -32 4 5 -77\n",
      "positive list of numbers from integer list: [4, 5]\n"
     ]
    }
   ],
   "source": [
    "#5 list comprehensive\n",
    "\n",
    "#(a)generate positive list of numbers from given list of integers\n",
    "num=input(\"enter no: \").split()\n",
    "num_list=[int(x) for x in num if int(x)>0]\n",
    "print(\"positive list of numbers from integer list:\",num_list)\n",
    "\n"
   ]
  },
  {
   "cell_type": "code",
   "execution_count": 7,
   "id": "ea0d4fab",
   "metadata": {},
   "outputs": [
    {
     "name": "stdout",
     "output_type": "stream",
     "text": [
      "enter number:2 7 9 22 100\n",
      "square of: 5 numbers [4, 49, 81, 484, 10000]\n"
     ]
    }
   ],
   "source": [
    "#(b)square of n numbers\n",
    "num= list(map(int ,input(\"enter number:\").split()))\n",
    "print(\"square of:\" , len(num) , \"numbers\" , [i**2 for i in num])"
   ]
  },
  {
   "cell_type": "code",
   "execution_count": 9,
   "id": "016db2ef",
   "metadata": {},
   "outputs": [
    {
     "name": "stdout",
     "output_type": "stream",
     "text": [
      "enter names:aysha frina omar umar\n",
      "vowels from given word: ['a', 'a', 'i', 'a', 'o', 'a', 'u', 'a']\n"
     ]
    }
   ],
   "source": [
    "#(c)form a list of vowels selected from a given word\n",
    "names=input(\"enter names:\")\n",
    "print(\"vowels from given word:\",[i for i in names.lower() if i in \"aeiou\"])"
   ]
  },
  {
   "cell_type": "code",
   "execution_count": 10,
   "id": "65b357c0",
   "metadata": {},
   "outputs": [
    {
     "name": "stdout",
     "output_type": "stream",
     "text": [
      "enter names:frina frin\n",
      "ordinal value of each element: [102, 114, 105, 110, 97, 32, 102, 114, 105, 110]\n"
     ]
    }
   ],
   "source": [
    "#(d)list ordinal value of each element od a word with use ord()\n",
    "name =input(\"enter names:\")\n",
    "print(\"ordinal value of each element:\",[ord(i) for i in name])"
   ]
  },
  {
   "cell_type": "code",
   "execution_count": null,
   "id": "2b914d74",
   "metadata": {},
   "outputs": [],
   "source": []
  }
 ],
 "metadata": {
  "kernelspec": {
   "display_name": "Python 3 (ipykernel)",
   "language": "python",
   "name": "python3"
  },
  "language_info": {
   "codemirror_mode": {
    "name": "ipython",
    "version": 3
   },
   "file_extension": ".py",
   "mimetype": "text/x-python",
   "name": "python",
   "nbconvert_exporter": "python",
   "pygments_lexer": "ipython3",
   "version": "3.11.4"
  }
 },
 "nbformat": 4,
 "nbformat_minor": 5
}
