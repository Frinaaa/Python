
{
 "cells": [
  {
   "cell_type": "code",
   "execution_count": 1,
   "id": "0d6f008a",
   "metadata": {},
   "outputs": [
    {
     "name": "stdout",
     "output_type": "stream",
     "text": [
      "enter first number: 10\n",
      "enter second number: 5\n",
      "gcd: 5\n"
     ]
    }
   ],
   "source": [
    "#1 find gcd of 2 number\n",
    "\n",
    "a= int(input(\"enter first number: \"))\n",
    "b= int(input(\"enter second number: \"))\n",
    "\n",
    "while b:\n",
    "    a,b=b ,a%b\n",
    "    \n",
    "print(\"gcd:\", a)"
   ]
  },
  {
   "cell_type": "code",
   "execution_count": 14,
   "id": "f0be14ee",
   "metadata": {},
   "outputs": [
    {
     "name": "stdout",
     "output_type": "stream",
     "text": [
      "enter no:2 4 55 77\n",
      "list after removing even numbers; ['55', '77']\n"
     ]
    }
   ],
   "source": [
    "#2 from a list of integers ,create a list removing even numbers\n",
    "num= input(\"enter no:\").split()\n",
    "num_list=[]\n",
    "for i in num:\n",
    "    if int(i)%2!=0:\n",
    "        num_list.append(i)\n",
    "print(\"list after removing even numbers;\",num_list)"
   ]
  },
  {
   "cell_type": "code",
   "execution_count": 15,
   "id": "0342fc34",
   "metadata": {},
   "outputs": [
    {
     "name": "stdout",
     "output_type": "stream",
     "text": [
      "enter no:2 77 88 1 4\n",
      "sum of items in a list: 172\n"
     ]
    }
   ],
   "source": [
    "#3 find the sum of all items in a list\n",
    "num= input(\"enter no:\").split();sum=0\n",
    "for i in num:\n",
    "    sum=sum+int(i)\n",
    "print(\"sum of items in a list:\",sum)"
   ]
  },
  {
   "cell_type": "code",
   "execution_count": 20,
   "id": "2ebb381f",
   "metadata": {},
   "outputs": [
    {
     "name": "stdout",
     "output_type": "stream",
     "text": [
      "enter starting range: 1000\n",
      "enter ending range: 9999\n",
      "number with all digit even number and perfect square:\n",
      "4624\n",
      "6084\n",
      "6400\n",
      "8464\n"
     ]
    }
   ],
   "source": [
    "#4 generate list of 4 digit numbers in a given range with all their digits even amd the number is a perfect square\n",
    "import math\n",
    "start=int(input(\"enter starting range: \"))\n",
    "end=int(input(\"enter ending range: \"))\n",
    "print(\"number with all digit even number and perfect square:\")\n",
    "for num in range(start,end+1):\n",
    "    if all(int(digit)%2==0 for digit in str(num)):\n",
    "        root=int(math.sqrt(num))\n",
    "        if root*root==num:\n",
    "            print(num)"
   ]
  },
  {
   "cell_type": "code",
   "execution_count": 19,
   "id": "420c52f7",
   "metadata": {},
   "outputs": [
    {
     "name": "stdout",
     "output_type": "stream",
     "text": [
      "enter text: aysha arshad\n",
      "number of character in a string:\n",
      "a:4\n",
      "y:1\n",
      "s:2\n",
      "h:2\n",
      "r:1\n",
      "d:1\n"
     ]
    }
   ],
   "source": [
    "#5 count the number of characters (character frequency) in a string\n",
    " \n",
    "from collections import Counter\n",
    "\n",
    "txt= input(\"enter text: \")\n",
    "print(\"number of character in a string:\")\n",
    "for char,count in Counter(txt.replace(\" \",\"\")).items():\n",
    "    print(f\"{char}:{count}\")"
   ]
  },
  {
   "cell_type": "code",
   "execution_count": 18,
   "id": "5af4112c",
   "metadata": {},
   "outputs": [
    {
     "name": "stdout",
     "output_type": "stream",
     "text": [
      "enter text:chat\n",
      "replaced end with 'ing': chating\n"
     ]
    }
   ],
   "source": [
    "#6 ADD 'ing' at end of string,if it didn't ends with 'ing' else add 'ly'\n",
    "txt = input(\"enter text:\")\n",
    "if txt.endswith(\"ing\"):\n",
    "    print(\"replaced end with 'ly':\",txt+\"ly\")\n",
    "else:\n",
    "    print(\"replaced end with 'ing':\",txt+\"ing\")"
   ]
  },
  {
   "cell_type": "code",
   "execution_count": null,
   "id": "7e62ee5c",
   "metadata": {},
   "outputs": [],
   "source": []
  }
 ],
 "metadata": {
  "kernelspec": {
   "display_name": "Python 3 (ipykernel)",
   "language": "python",
   "name": "python3"
  },
  "language_info": {
   "codemirror_mode": {
    "name": "ipython",
    "version": 3
   },
   "file_extension": ".py",
   "mimetype": "text/x-python",
   "name": "python",
   "nbconvert_exporter": "python",
   "pygments_lexer": "ipython3",
   "version": "3.11.4"
  }
 },
 "nbformat": 4,
 "nbformat_minor": 5
}
