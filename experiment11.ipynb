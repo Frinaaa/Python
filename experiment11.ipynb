{
 "cells": [
  {
   "cell_type": "code",
   "execution_count": 1,
   "id": "35262e4b",
   "metadata": {},
   "outputs": [
    {
     "name": "stdout",
     "output_type": "stream",
     "text": [
      "Enter emails and phone numbers separated by commas: frinafrin@gmail.com,9746728218\n",
      "\n",
      "Valid Emails:\n",
      "- frinafrin@gmail.com\n",
      "\n",
      "Valid Phone Numbers:\n",
      "- 9746728218\n"
     ]
    }
   ],
   "source": [
    "#11.Write a Python program that accepts a list of email addresses and phone numbers from the user, separated by commas, and validates each input using regular expressions.\n",
    "\n",
    "import re\n",
    "\n",
    "email_pattern = r\"^[a-zA-Z0-9._%+-]+@[a-zA-Z0-9.-]+\\.[a-zA-Z]{2,}$\"\n",
    "phone_pattern = r\"^\\+?\\d{0,2}[-\\s]?\\d{10}$\"\n",
    "\n",
    "inputs = input(\"Enter emails and phone numbers separated by commas: \").split(\",\")\n",
    "valid_emails, valid_phone_numbers = [], []\n",
    "\n",
    "for item in inputs:\n",
    "    if re.match(email_pattern, item.strip()):\n",
    "        valid_emails.append(item.strip())\n",
    "    elif re.match(phone_pattern, item.strip()):\n",
    "        valid_phone_numbers.append(item.strip())\n",
    "\n",
    "print(\"\\nValid Emails:\")\n",
    "for email in valid_emails:\n",
    "    print(f\"- {email}\")\n",
    "\n",
    "print(\"\\nValid Phone Numbers:\")\n",
    "for phone in valid_phone_numbers:\n",
    "    print(f\"- {phone}\")"
   ]
  },
  {
   "cell_type": "code",
   "execution_count": null,
   "id": "83b90618",
   "metadata": {},
   "outputs": [],
   "source": []
  }
 ],
 "metadata": {
  "kernelspec": {
   "display_name": "Python 3 (ipykernel)",
   "language": "python",
   "name": "python3"
  },
  "language_info": {
   "codemirror_mode": {
    "name": "ipython",
    "version": 3
   },
   "file_extension": ".py",
   "mimetype": "text/x-python",
   "name": "python",
   "nbconvert_exporter": "python",
   "pygments_lexer": "ipython3",
   "version": "3.11.4"
  }
 },
 "nbformat": 4,
 "nbformat_minor": 5
}
