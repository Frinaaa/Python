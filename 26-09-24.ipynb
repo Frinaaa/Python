
{
 "cells": [
  {
   "cell_type": "code",
   "execution_count": 1,
   "id": "db02679b",
   "metadata": {},
   "outputs": [
    {
     "name": "stdout",
     "output_type": "stream",
     "text": [
      "enter side:4\n",
      "area= 16.0\n"
     ]
    }
   ],
   "source": [
    "a=float(input(\"enter side:\"))\n",
    "s=a*a\n",
    "print(\"area=\",s)"
   ]
  },
  {
   "cell_type": "code",
   "execution_count": 2,
   "id": "976de8bb",
   "metadata": {},
   "outputs": [
    {
     "name": "stdout",
     "output_type": "stream",
     "text": [
      "enter base of right angled triangle:4\n",
      "enter height of right angled triangle:5\n",
      "area= 10.0\n"
     ]
    }
   ],
   "source": [
    "b=float(input(\"enter base of right angled triangle:\"))\n",
    "h=float(input(\"enter height of right angled triangle:\"))\n",
    "r=1/2*b*h\n",
    "print(\"area=\",r)"
   ]
  },
  {
   "cell_type": "code",
   "execution_count": 4,
   "id": "3ea75837",
   "metadata": {},
   "outputs": [
    {
     "name": "stdout",
     "output_type": "stream",
     "text": [
      "enter your name:frina\n",
      "hello, frina !\n"
     ]
    }
   ],
   "source": [
    "n=input(\"enter your name:\")\n",
    "print(\"hello,\",n,\"!\")"
   ]
  },
  {
   "cell_type": "code",
   "execution_count": 5,
   "id": "213ba467",
   "metadata": {},
   "outputs": [
    {
     "name": "stdout",
     "output_type": "stream",
     "text": [
      "enter any integer number:10\n",
      "next integer= 11\n",
      "previous integer= 9\n"
     ]
    }
   ],
   "source": [
    "n=int(input(\"enter any integer number:\"))\n",
    "next=n+1\n",
    "print(\"next integer=\",next)\n",
    "pre=n-1\n",
    "print(\"previous integer=\",pre)"
   ]
  },
  {
   "cell_type": "code",
   "execution_count": 6,
   "id": "33882c5f",
   "metadata": {},
   "outputs": [
    {
     "name": "stdout",
     "output_type": "stream",
     "text": [
      "enter principle amt:60000\n",
      "enter rate of interest:4\n",
      "enter total no.of years:6\n",
      "simple interest= 14400.0\n"
     ]
    }
   ],
   "source": [
    "p=int(input(\"enter principle amt:\"))\n",
    "r=float(input(\"enter rate of interest:\"))\n",
    "t=float(input(\"enter total no.of years:\"))\n",
    "si=p*r*t/100\n",
    "print(\"simple interest=\",si)"
   ]
  },
  {
   "cell_type": "code",
   "execution_count": null,
   "id": "cd981379",
   "metadata": {},
   "outputs": [],
   "source": []
  }
 ],
 "metadata": {
  "kernelspec": {
   "display_name": "Python 3 (ipykernel)",
   "language": "python",
   "name": "python3"
  },
  "language_info": {
   "codemirror_mode": {
    "name": "ipython",
    "version": 3
   },
   "file_extension": ".py",
   "mimetype": "text/x-python",
   "name": "python",
   "nbconvert_exporter": "python",
   "pygments_lexer": "ipython3",
   "version": "3.11.4"
  }
 },
 "nbformat": 4,
 "nbformat_minor": 5
}
