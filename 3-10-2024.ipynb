{
 "cells": [
  {
   "cell_type": "code",
   "execution_count": 1,
   "id": "f978cdf6",
   "metadata": {},
   "outputs": [
    {
     "name": "stdout",
     "output_type": "stream",
     "text": [
      "enter any integer num:43\n",
      "output of n+nn+nnn= 438729\n"
     ]
    }
   ],
   "source": [
    "n=int(input(\"enter any integer num:\"))\n",
    "temp=str(n)\n",
    "temp1=temp+temp\n",
    "temp2=temp+temp+temp\n",
    "o=n+int(temp1)+int(temp2)\n",
    "print(\"output of n+nn+nnn=\",o)"
   ]
  },
  {
   "cell_type": "code",
   "execution_count": 2,
   "id": "9e5ba58e",
   "metadata": {},
   "outputs": [
    {
     "name": "stdout",
     "output_type": "stream",
     "text": [
      "enter radius of circle:4\n",
      "area of circle= 50.24\n"
     ]
    }
   ],
   "source": [
    "r=float(input(\"enter radius of circle:\"))\n",
    "a=r*r*3.14\n",
    "print(\"area of circle=\",a)"
   ]
  },
  {
   "cell_type": "code",
   "execution_count": 3,
   "id": "dbbd67ba",
   "metadata": {},
   "outputs": [
    {
     "name": "stdout",
     "output_type": "stream",
     "text": [
      "enter a number into 'a':3\n",
      "enter a number into 'b':9\n",
      "enter a number into 'c':10\n",
      "largest number= 10\n"
     ]
    }
   ],
   "source": [
    "a=int(input(\"enter a number into 'a':\"))\n",
    "b=int(input(\"enter a number into 'b':\"))\n",
    "c=int(input(\"enter a number into 'c':\"))\n",
    "maximum=max(a,b,c)\n",
    "print(\"largest number=\",maximum)"
   ]
  },
  {
   "cell_type": "code",
   "execution_count": null,
   "id": "57ac0b8c",
   "metadata": {},
   "outputs": [],
   "source": []
  }
 ],
 "metadata": {
  "kernelspec": {
   "display_name": "Python 3 (ipykernel)",
   "language": "python",
   "name": "python3"
  },
  "language_info": {
   "codemirror_mode": {
    "name": "ipython",
    "version": 3
   },
   "file_extension": ".py",
   "mimetype": "text/x-python",
   "name": "python",
   "nbconvert_exporter": "python",
   "pygments_lexer": "ipython3",
   "version": "3.11.4"
  }
 },
 "nbformat": 4,
 "nbformat_minor": 5
}
