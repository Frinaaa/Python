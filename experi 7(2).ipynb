
{
 "cells": [
  {
   "cell_type": "code",
   "execution_count": 1,
   "id": "8078e060",
   "metadata": {},
   "outputs": [
    {
     "name": "stdout",
     "output_type": "stream",
     "text": [
      "enter length of rectangle:5\n",
      "enter breadth of rectangle:6\n",
      "Rectangle\n",
      "Area: 30\n",
      "permiter: 22\n",
      "---------------\n",
      "\n",
      "Circle\n",
      "Area: 50.24\n",
      "permiter: 25.12\n",
      "---------------\n",
      "\n",
      "Cuboid\n",
      "Area: 68\n",
      "permiter: 184\n",
      "---------------\n",
      "\n",
      "Sphere\n",
      "Area: 200.96\n",
      "permiter: 25.12\n",
      "---------------\n",
      "\n"
     ]
    }
   ],
   "source": [
    "#2 Create a package graphics with modules rectangle, circle and sub package graphics3D with modules cuboid and sphere\n",
    "import graphicss.rr\n",
    "l=int(input(\"enter length of rectangle:\"))\n",
    "b=int(input(\"enter breadth of rectangle:\"))\n",
    "print(\"Rectangle\")\n",
    "print(\"Area:\",graphicss.rr.area(l,b))\n",
    "print(\"permiter:\",graphicss.rr.perimeter(l,b))\n",
    "print(\"---------------\\n\")\n",
    "\n",
    "\n",
    "import graphicss.cir\n",
    "r=4\n",
    "print(\"Circle\")\n",
    "print(\"Area:\",graphicss.cir.area(r))\n",
    "print(\"permiter:\",graphicss.cir.perimeter(r))\n",
    "print(\"---------------\\n\")\n",
    "\n",
    "\n",
    "\n",
    "import graphicss.graphics3D.cub\n",
    "l=4\n",
    "b=5\n",
    "h=8\n",
    "print(\"Cuboid\")\n",
    "print(\"Area:\", graphicss.graphics3D.cub.area(l, b, h))\n",
    "print(\"permiter:\",graphicss.graphics3D.cub.perimeter(l,b,h))\n",
    "print(\"---------------\\n\")\n",
    "\n",
    "import graphicss.graphics3D.sp\n",
    "r=4\n",
    "print(\"Sphere\")\n",
    "print(\"Area:\",graphicss.graphics3D.sp.surfarea(r))\n",
    "print(\"permiter:\",graphicss.graphics3D.sp.circumference(r))\n",
    "print(\"---------------\\n\")\n",
    "\n"
   ]
  },
  {
   "cell_type": "code",
   "execution_count": null,
   "id": "aa776c32",
   "metadata": {},
   "outputs": [],
   "source": []
  }
 ],
 "metadata": {
  "kernelspec": {
   "display_name": "Python 3 (ipykernel)",
   "language": "python",
   "name": "python3"
  },
  "language_info": {
   "codemirror_mode": {
    "name": "ipython",
    "version": 3
   },
   "file_extension": ".py",
   "mimetype": "text/x-python",
   "name": "python",
   "nbconvert_exporter": "python",
   "pygments_lexer": "ipython3",
   "version": "3.11.4"
  }
 },
 "nbformat": 4,
 "nbformat_minor": 5
}
