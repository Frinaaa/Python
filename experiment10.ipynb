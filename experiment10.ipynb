
{
 "cells": [
  {
   "cell_type": "code",
   "execution_count": 1,
   "id": "9a18765e",
   "metadata": {},
   "outputs": [
    {
     "name": "stdout",
     "output_type": "stream",
     "text": [
      "enter a  number4\n"
     ]
    },
    {
     "ename": "ZeroDivisionError",
     "evalue": "division by zero",
     "output_type": "error",
     "traceback": [
      "\u001b[0;31m---------------------------------------------------------------------------\u001b[0m",
      "\u001b[0;31mZeroDivisionError\u001b[0m                         Traceback (most recent call last)",
      "Cell \u001b[0;32mIn[1], line 2\u001b[0m\n\u001b[1;32m      1\u001b[0m a\u001b[38;5;241m=\u001b[39m\u001b[38;5;28mint\u001b[39m(\u001b[38;5;28minput\u001b[39m(\u001b[38;5;124m\"\u001b[39m\u001b[38;5;124menter a  number\u001b[39m\u001b[38;5;124m\"\u001b[39m))\n\u001b[0;32m----> 2\u001b[0m b\u001b[38;5;241m=\u001b[39ma\u001b[38;5;241m/\u001b[39m\u001b[38;5;241m0\u001b[39m\n\u001b[1;32m      3\u001b[0m \u001b[38;5;28mprint\u001b[39m(a)\n",
      "\u001b[0;31mZeroDivisionError\u001b[0m: division by zero"
     ]
    }
   ],
   "source": [
    "# zero division error(exception)\n",
    "a=int(input(\"enter a  number\"))\n",
    "b=a/0\n",
    "print(a)"
   ]
  },
  {
   "cell_type": "code",
   "execution_count": 3,
   "id": "f8b0674d",
   "metadata": {},
   "outputs": [
    {
     "name": "stdout",
     "output_type": "stream",
     "text": [
      "enter a  number4\n",
      "Error: Division by zero is not allowed!\n",
      "Program execution completed.\n"
     ]
    }
   ],
   "source": [
    "# solution \n",
    "try:\n",
    "    a=int(input(\"enter a  number\"))\n",
    "    b=a/0\n",
    "except ZeroDivisionError:\n",
    "    print(\"Error: Division by zero is not allowed!\")\n",
    "else:\n",
    "    print(\"result=\",b)\n",
    "finally:\n",
    "    print(\"Program execution completed.\")"
   ]
  },
  {
   "cell_type": "code",
   "execution_count": 5,
   "id": "c60a00db",
   "metadata": {},
   "outputs": [
    {
     "name": "stdout",
     "output_type": "stream",
     "text": [
      "enter a  number2\n",
      "enter another  number0\n",
      "Error: Division by zero is not allowed!\n",
      "Program execution completed.\n"
     ]
    }
   ],
   "source": [
    "# giving 2 inputs\n",
    "try:\n",
    "    a=int(input(\"enter a  number\"))\n",
    "    b=int(input(\"enter another  number\"))\n",
    "    c=a/b\n",
    "except ZeroDivisionError:\n",
    "    print(\"Error: Division by zero is not allowed!\")\n",
    "else:\n",
    "    print(\"result=\",c)\n",
    "finally:\n",
    "    print(\"Program execution completed.\")"
   ]
  },
  {
   "cell_type": "code",
   "execution_count": 8,
   "id": "7ff3397e",
   "metadata": {},
   "outputs": [
    {
     "name": "stdout",
     "output_type": "stream",
     "text": [
      "enter a  number:a\n",
      "Error: Invalid input. Please enter numeric values.\n",
      "Program execution completed.\n"
     ]
    }
   ],
   "source": [
    "# another exception value error\n",
    "try:\n",
    "    a=int(input(\"enter a  number:\"))\n",
    "    b=int(input(\"enter another  number:\"))\n",
    "    c=a/b\n",
    "except ZeroDivisionError:\n",
    "    print(\"Error: Division by zero is not allowed!\")\n",
    "except ValueError:\n",
    "    print(\"Error: Invalid input. Please enter numeric values.\")\n",
    "else:\n",
    "    print(\"result=\",c)\n",
    "finally:\n",
    "    print(\"Program execution completed.\")"
   ]
  },
  {
   "cell_type": "code",
   "execution_count": 13,
   "id": "a2c5ffe4",
   "metadata": {},
   "outputs": [
    {
     "name": "stdout",
     "output_type": "stream",
     "text": [
      "enter any word:hello frina\n",
      "Pattern found!\n"
     ]
    }
   ],
   "source": [
    "# regular expression\n",
    "import re\n",
    "pattern=r\"hello\"\n",
    "text=input(\"enter any word:\")\n",
    "if re.match(pattern, text):\n",
    "    print(\"Pattern found!\")\n",
    "else:\n",
    "    print(\"Pattern not found.\")"
   ]
  },
  {
   "cell_type": "code",
   "execution_count": 17,
   "id": "0d013b9c",
   "metadata": {},
   "outputs": [
    {
     "name": "stdout",
     "output_type": "stream",
     "text": [
      "['one', 'two', 'three', 'four']\n"
     ]
    }
   ],
   "source": [
    "import re\n",
    "text = \"one1two22three333four\"\n",
    "pattern = r\"\\d+\" # Split where one or more digits occur\n",
    "result = re.split(pattern, text)\n",
    "print(result)"
   ]
  },
  {
   "cell_type": "code",
   "execution_count": null,
   "id": "3611a420",
   "metadata": {},
   "outputs": [],
   "source": []
  }
 ],
 "metadata": {
  "kernelspec": {
   "display_name": "Python 3 (ipykernel)",
   "language": "python",
   "name": "python3"
  },
  "language_info": {
   "codemirror_mode": {
    "name": "ipython",
    "version": 3
   },
   "file_extension": ".py",
   "mimetype": "text/x-python",
   "name": "python",
   "nbconvert_exporter": "python",
   "pygments_lexer": "ipython3",
   "version": "3.11.4"
  }
 },
 "nbformat": 4,
 "nbformat_minor": 5
}
