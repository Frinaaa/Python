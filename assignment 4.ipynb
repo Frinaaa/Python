{
 "cells": [
  {
   "cell_type": "code",
   "execution_count": 4,
   "id": "00884165",
   "metadata": {},
   "outputs": [
    {
     "name": "stdout",
     "output_type": "stream",
     "text": [
      "enter text: aha ys hhaa ys\n",
      "[('aha', 1), ('ys', 2), ('hhaa', 1)]\n"
     ]
    }
   ],
   "source": [
    "#1 count the occurences of each word in a line of text\n",
    "txt=input(\"enter text: \").split()\n",
    "print([(word,txt.count(word)) for word in set(txt)])"
   ]
  },
  {
   "cell_type": "code",
   "execution_count": 1,
   "id": "03a96865",
   "metadata": {},
   "outputs": [
    {
     "name": "stdout",
     "output_type": "stream",
     "text": [
      "enter no: 10 101 22 66\n",
      "[10, 'over', 22, 66]\n"
     ]
    }
   ],
   "source": [
    "#2 prompt the user for a list of integers. for all values greater than 100 ,store 'over' instead\n",
    "num= input(\"enter no: \").split()\n",
    "num_list=[int(x) for x in num]\n",
    "result= [\"over\" if x>100 else x for x in num_list]\n",
    "print(result)"
   ]
  },
  {
   "cell_type": "code",
   "execution_count": 2,
   "id": "31067e01",
   "metadata": {},
   "outputs": [
    {
     "name": "stdout",
     "output_type": "stream",
     "text": [
      "enter names:aysha arshad\n",
      "4\n"
     ]
    }
   ],
   "source": [
    "#3 store a list of first names count the occurence of 'a'within the list\n",
    "names=input(\"enter names:\").split()\n",
    "print(sum([name.count('a') for name in names]))"
   ]
  },
  {
   "cell_type": "code",
   "execution_count": 4,
   "id": "578ae695",
   "metadata": {},
   "outputs": [
    {
     "name": "stdout",
     "output_type": "stream",
     "text": [
      "enter first list of integers separated by spaces:4 6 7 3 4 \n",
      "enter second list of integers separated by spaces:6 5 33 77 4 3 5 6\n",
      "same length: False\n",
      "same sum: False\n",
      "any common elements: True\n"
     ]
    }
   ],
   "source": [
    "#4 enter 2 lists of integers check \n",
    "\n",
    "list1 =list(map(int,input(\"enter first list of integers separated by spaces:\").split()))\n",
    "list2 =list(map(int,input(\"enter second list of integers separated by spaces:\").split()))\n",
    "\n",
    "#(a)if list are same length\n",
    "print(\"same length:\",len(list1) == len(list2)) \n",
    "\n",
    "#(b)if list sum to same value\n",
    "print(\"same sum:\",sum(list1) == sum(list2)) \n",
    "\n",
    "#(c)if any value occur in both\n",
    "print(\"any common elements:\",any([item in list2 for item in list1]))"
   ]
  },
  {
   "cell_type": "code",
   "execution_count": 5,
   "id": "e048d2f7",
   "metadata": {},
   "outputs": [
    {
     "name": "stdout",
     "output_type": "stream",
     "text": [
      "enter no: 1 66 44 888 66678 6\n",
      "[1, 66, 44, 888, 66678, 6]\n",
      "square of 6 numbers 260.1595664203029\n"
     ]
    }
   ],
   "source": [
    "#5 list comprehensive\n",
    "\n",
    "#(a)generate positive list of numbers from given list of integers\n",
    "num=input(\"enter no: \").split()\n",
    "num_list=[int(x) for x in num if int(x)>0]\n",
    "print(num_list)\n",
    "\n"
   ]
  },
  {
   "cell_type": "code",
   "execution_count": 3,
   "id": "22c3fa4d",
   "metadata": {},
   "outputs": [
    {
     "name": "stdout",
     "output_type": "stream",
     "text": [
      "enter number:22 4 1 7 88 33\n",
      "square of 6 numbers [484, 16, 1, 49, 7744, 1089]\n"
     ]
    }
   ],
   "source": [
    "#(b)square of n numbers\n",
    "num= list(map(int ,input(\"enter number:\").split()))\n",
    "print(\"square of\" , len(num) , \"numbers\" , [i**2 for i in num])"
   ]
  },
  {
   "cell_type": "code",
   "execution_count": 7,
   "id": "d8f2e842",
   "metadata": {},
   "outputs": [
    {
     "name": "stdout",
     "output_type": "stream",
     "text": [
      "enter names:umaira frina jahana omar\n",
      "['u', 'a', 'i', 'a', 'i', 'a', 'a', 'a', 'a', 'o', 'a']\n"
     ]
    }
   ],
   "source": [
    "#(c)form a list of vowels selected from a given word\n",
    "names=input(\"enter names:\")\n",
    "print([i for i in names if i in \"aeiouAEIOU\"])\n"
   ]
  },
  {
   "cell_type": "code",
   "execution_count": 10,
   "id": "e2899122",
   "metadata": {},
   "outputs": [
    {
     "name": "stdout",
     "output_type": "stream",
     "text": [
      "enter names:frinafrin\n",
      "[102, 114, 105, 110, 97, 102, 114, 105, 110]\n"
     ]
    }
   ],
   "source": [
    "#(d)list ordinal value of each element od a word with use ord()\n",
    "name =input(\"enter names:\")\n",
    "print([ord(i) for i in name])"
   ]
  }
 ],
 "metadata": {
  "kernelspec": {
   "display_name": "Python 3 (ipykernel)",
   "language": "python",
   "name": "python3"
  },
  "language_info": {
   "codemirror_mode": {
    "name": "ipython",
    "version": 3
   },
   "file_extension": ".py",
   "mimetype": "text/x-python",
   "name": "python",
   "nbconvert_exporter": "python",
   "pygments_lexer": "ipython3",
   "version": "3.11.4"
  }
 },
 "nbformat": 4,
 "nbformat_minor": 5
}
